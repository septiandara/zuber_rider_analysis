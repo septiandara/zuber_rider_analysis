{
 "cells": [
  {
   "cell_type": "markdown",
   "id": "0e129e2c",
   "metadata": {},
   "source": [
    "# Zuber - Riders Data Analysis"
   ]
  },
  {
   "cell_type": "markdown",
   "id": "99a92078",
   "metadata": {},
   "source": [
    "## Introduction\n",
    "\n",
    "A database of users' riding behaviour have been provided for analysis. The dataset will be processed to avoid or minimise skewed analysis, exploratory data analysis will be conducted and hypotheses testing will be done in order to reach some conclusions. This report will consist of the following:\n",
    "\n",
    "1. General information on the datasets\n",
    "2. Data preprocessing stages, categorising data and adding other relevant variables\n",
    "3. Exploratory data analysis on popular dropoff locations and taxi companies\n",
    "4. Hypotheses testing to determine whether weather affects users' riding preference on certain day and location\n",
    "\n",
    "The main goal of this report is to provide Zuber with passenger preferences and the impact of external factors on rides. The conclusions drawn in this report will also provide suggestions on which strategy best serves Zuber."
   ]
  },
  {
   "cell_type": "markdown",
   "id": "84f3b355",
   "metadata": {},
   "source": [
    "## General Information"
   ]
  },
  {
   "cell_type": "code",
   "execution_count": 27,
   "id": "c3fe054f",
   "metadata": {},
   "outputs": [],
   "source": [
    "import pandas as pd\n",
    "import numpy as np\n",
    "import requests\n",
    "from bs4 import BeautifulSoup\n",
    "import matplotlib.pyplot as plt\n",
    "import math as mt\n",
    "from math import factorial\n",
    "from scipy import stats as st\n",
    "import warnings\n",
    "warnings.filterwarnings(\"ignore\")"
   ]
  },
  {
   "cell_type": "code",
   "execution_count": 2,
   "id": "d6389086",
   "metadata": {},
   "outputs": [],
   "source": [
    "# read the csv files\n",
    "try:\n",
    "    df_one = pd.read_csv('project_sql_result_01.csv')\n",
    "    df_two = pd.read_csv('project_sql_result_04.csv')\n",
    "    df_three = pd.read_csv('project_sql_result_07.csv')\n",
    "except:\n",
    "    df_one = pd.read_csv('/datasets/project_sql_result_01.csv')\n",
    "    df_two = pd.read_csv('/datasets/project_sql_result_04.csv')\n",
    "    df_three = pd.read_csv('/datasets/project_sql_result_07.csv')"
   ]
  },
  {
   "cell_type": "code",
   "execution_count": 30,
   "id": "62b873ac",
   "metadata": {},
   "outputs": [],
   "source": [
    "# read chicago weather\n",
    "URL = 'https://code.s3.yandex.net/data-analyst-eng/chicago_weather_2017.html'\n",
    "req = requests.get(URL)\n",
    "soup = BeautifulSoup(req.text, 'lxml')\n",
    "\n",
    "heading_table = [] \n",
    "for row in soup.find_all('th'):\n",
    "    heading_table.append(row.text)\n",
    "\n",
    "content = [] \n",
    "for row in soup.find_all('tr'):\n",
    "    if not row.find_all('th'):\n",
    "        content.append([element.text for element in row.find_all('td')])\n",
    "\n",
    "weather_records = pd.DataFrame(content, columns=heading_table)"
   ]
  },
  {
   "cell_type": "code",
   "execution_count": 3,
   "id": "e8b8d4a7",
   "metadata": {},
   "outputs": [],
   "source": [
    "def data_info(data):\n",
    "    \"\"\"This function helps simplify reading multiple datasets.\n",
    "    \n",
    "    This function takes the dataset variable as input and \n",
    "    produces the general information about each dataset, \n",
    "    including description, duplicates and missing values.\"\"\"\n",
    "    print('General dataset information:')\n",
    "    print(data.info())\n",
    "    print()\n",
    "    print('First five rows:')\n",
    "    print(data.head())\n",
    "    print()\n",
    "    print('Description of the dataset:')\n",
    "    print(data.describe())\n",
    "    print()\n",
    "    print('This dataset has {} duplicates.'.format(data.duplicated().sum()))\n",
    "    print()\n",
    "    print('How many missing values does this data have?')\n",
    "    print(data.isna().sum())\n",
    "    print()\n",
    "    print('What is the percentage of the missing values?')\n",
    "    print(data.isna().sum() / len(data))"
   ]
  },
  {
   "cell_type": "markdown",
   "id": "b0df5bc9",
   "metadata": {},
   "source": [
    "### First Dataframe Information and Processing"
   ]
  },
  {
   "cell_type": "code",
   "execution_count": 4,
   "id": "056786d4",
   "metadata": {
    "scrolled": false
   },
   "outputs": [
    {
     "name": "stdout",
     "output_type": "stream",
     "text": [
      "General dataset information:\n",
      "<class 'pandas.core.frame.DataFrame'>\n",
      "RangeIndex: 64 entries, 0 to 63\n",
      "Data columns (total 2 columns):\n",
      " #   Column        Non-Null Count  Dtype \n",
      "---  ------        --------------  ----- \n",
      " 0   company_name  64 non-null     object\n",
      " 1   trips_amount  64 non-null     int64 \n",
      "dtypes: int64(1), object(1)\n",
      "memory usage: 1.1+ KB\n",
      "None\n",
      "\n",
      "First five rows:\n",
      "                      company_name  trips_amount\n",
      "0                        Flash Cab         19558\n",
      "1        Taxi Affiliation Services         11422\n",
      "2                 Medallion Leasin         10367\n",
      "3                       Yellow Cab          9888\n",
      "4  Taxi Affiliation Service Yellow          9299\n",
      "\n",
      "Description of the dataset:\n",
      "       trips_amount\n",
      "count     64.000000\n",
      "mean    2145.484375\n",
      "std     3812.310186\n",
      "min        2.000000\n",
      "25%       20.750000\n",
      "50%      178.500000\n",
      "75%     2106.500000\n",
      "max    19558.000000\n",
      "\n",
      "This dataset has 0 duplicates.\n",
      "\n",
      "How many missing values does this data have?\n",
      "company_name    0\n",
      "trips_amount    0\n",
      "dtype: int64\n",
      "\n",
      "What is the percentage of the missing values?\n",
      "company_name    0.0\n",
      "trips_amount    0.0\n",
      "dtype: float64\n"
     ]
    }
   ],
   "source": [
    "data_info(df_one)"
   ]
  },
  {
   "cell_type": "markdown",
   "id": "adf9ee95",
   "metadata": {},
   "source": [
    "The first dataset tells us about which taxi companies have the highest trips in November. The dataset does not have any missing values, duplicates, or incorrect data type. We can move forward with analysing the dataset."
   ]
  },
  {
   "cell_type": "markdown",
   "id": "4d54ea1b",
   "metadata": {},
   "source": [
    "### Second Dataframe Information and Processing"
   ]
  },
  {
   "cell_type": "code",
   "execution_count": 5,
   "id": "02a37ce3",
   "metadata": {},
   "outputs": [
    {
     "name": "stdout",
     "output_type": "stream",
     "text": [
      "General dataset information:\n",
      "<class 'pandas.core.frame.DataFrame'>\n",
      "RangeIndex: 94 entries, 0 to 93\n",
      "Data columns (total 2 columns):\n",
      " #   Column                 Non-Null Count  Dtype  \n",
      "---  ------                 --------------  -----  \n",
      " 0   dropoff_location_name  94 non-null     object \n",
      " 1   average_trips          94 non-null     float64\n",
      "dtypes: float64(1), object(1)\n",
      "memory usage: 1.6+ KB\n",
      "None\n",
      "\n",
      "First five rows:\n",
      "  dropoff_location_name  average_trips\n",
      "0                  Loop   10727.466667\n",
      "1           River North    9523.666667\n",
      "2         Streeterville    6664.666667\n",
      "3             West Loop    5163.666667\n",
      "4                O'Hare    2546.900000\n",
      "\n",
      "Description of the dataset:\n",
      "       average_trips\n",
      "count      94.000000\n",
      "mean      599.953728\n",
      "std      1714.591098\n",
      "min         1.800000\n",
      "25%        14.266667\n",
      "50%        52.016667\n",
      "75%       298.858333\n",
      "max     10727.466667\n",
      "\n",
      "This dataset has 0 duplicates.\n",
      "\n",
      "How many missing values does this data have?\n",
      "dropoff_location_name    0\n",
      "average_trips            0\n",
      "dtype: int64\n",
      "\n",
      "What is the percentage of the missing values?\n",
      "dropoff_location_name    0.0\n",
      "average_trips            0.0\n",
      "dtype: float64\n"
     ]
    }
   ],
   "source": [
    "data_info(df_two)"
   ]
  },
  {
   "cell_type": "markdown",
   "id": "ca9c4724",
   "metadata": {},
   "source": [
    "The second dataset tells us about which dropoff location is the most popular in November. The dataset does not have any missing values or duplicates, but one of the column does not have the correct datatype, so we need to change it before we can move forward with analysing the dataset."
   ]
  },
  {
   "cell_type": "code",
   "execution_count": 6,
   "id": "e8346a82",
   "metadata": {
    "scrolled": false
   },
   "outputs": [],
   "source": [
    "# change average trips into integer for ease of analysis\n",
    "df_two['average_trips'] = df_two['average_trips'].astype(int)"
   ]
  },
  {
   "cell_type": "markdown",
   "id": "8d9b177d",
   "metadata": {},
   "source": [
    "## Exploratory Data Analysis"
   ]
  },
  {
   "cell_type": "markdown",
   "id": "66b39c35",
   "metadata": {},
   "source": [
    "### Top Neighbourhoods"
   ]
  },
  {
   "cell_type": "code",
   "execution_count": 7,
   "id": "9a451deb",
   "metadata": {},
   "outputs": [
    {
     "data": {
      "text/html": [
       "<div>\n",
       "<style scoped>\n",
       "    .dataframe tbody tr th:only-of-type {\n",
       "        vertical-align: middle;\n",
       "    }\n",
       "\n",
       "    .dataframe tbody tr th {\n",
       "        vertical-align: top;\n",
       "    }\n",
       "\n",
       "    .dataframe thead th {\n",
       "        text-align: right;\n",
       "    }\n",
       "</style>\n",
       "<table border=\"1\" class=\"dataframe\">\n",
       "  <thead>\n",
       "    <tr style=\"text-align: right;\">\n",
       "      <th></th>\n",
       "      <th>dropoff_location_name</th>\n",
       "      <th>average_trips</th>\n",
       "    </tr>\n",
       "  </thead>\n",
       "  <tbody>\n",
       "    <tr>\n",
       "      <th>0</th>\n",
       "      <td>Loop</td>\n",
       "      <td>10727</td>\n",
       "    </tr>\n",
       "    <tr>\n",
       "      <th>1</th>\n",
       "      <td>River North</td>\n",
       "      <td>9523</td>\n",
       "    </tr>\n",
       "    <tr>\n",
       "      <th>2</th>\n",
       "      <td>Streeterville</td>\n",
       "      <td>6664</td>\n",
       "    </tr>\n",
       "    <tr>\n",
       "      <th>3</th>\n",
       "      <td>West Loop</td>\n",
       "      <td>5163</td>\n",
       "    </tr>\n",
       "    <tr>\n",
       "      <th>4</th>\n",
       "      <td>O'Hare</td>\n",
       "      <td>2546</td>\n",
       "    </tr>\n",
       "    <tr>\n",
       "      <th>5</th>\n",
       "      <td>Lake View</td>\n",
       "      <td>2420</td>\n",
       "    </tr>\n",
       "    <tr>\n",
       "      <th>6</th>\n",
       "      <td>Grant Park</td>\n",
       "      <td>2068</td>\n",
       "    </tr>\n",
       "    <tr>\n",
       "      <th>7</th>\n",
       "      <td>Museum Campus</td>\n",
       "      <td>1510</td>\n",
       "    </tr>\n",
       "    <tr>\n",
       "      <th>8</th>\n",
       "      <td>Gold Coast</td>\n",
       "      <td>1364</td>\n",
       "    </tr>\n",
       "    <tr>\n",
       "      <th>9</th>\n",
       "      <td>Sheffield &amp; DePaul</td>\n",
       "      <td>1259</td>\n",
       "    </tr>\n",
       "  </tbody>\n",
       "</table>\n",
       "</div>"
      ],
      "text/plain": [
       "  dropoff_location_name  average_trips\n",
       "0                  Loop          10727\n",
       "1           River North           9523\n",
       "2         Streeterville           6664\n",
       "3             West Loop           5163\n",
       "4                O'Hare           2546\n",
       "5             Lake View           2420\n",
       "6            Grant Park           2068\n",
       "7         Museum Campus           1510\n",
       "8            Gold Coast           1364\n",
       "9    Sheffield & DePaul           1259"
      ]
     },
     "execution_count": 7,
     "metadata": {},
     "output_type": "execute_result"
    }
   ],
   "source": [
    "df_two.sort_values('average_trips', ascending=False).head(10)"
   ]
  },
  {
   "cell_type": "code",
   "execution_count": 8,
   "id": "b2b29ee8",
   "metadata": {},
   "outputs": [],
   "source": [
    "popular_loc = df_two.nlargest(10, 'average_trips')"
   ]
  },
  {
   "cell_type": "code",
   "execution_count": 9,
   "id": "ca904a6e",
   "metadata": {},
   "outputs": [
    {
     "data": {
      "image/png": "[encoded data removed]",
      "text/plain": [
       "<Figure size 720x360 with 1 Axes>"
      ]
     },
     "metadata": {
      "needs_background": "light"
     },
     "output_type": "display_data"
    }
   ],
   "source": [
    "(popular_loc\n",
    "     .groupby('dropoff_location_name')['average_trips']\n",
    "     .mean()\n",
    "     .sort_values(ascending=False)\n",
    "     .plot(kind='bar', figsize=(10, 5))\n",
    ")\n",
    "\n",
    "plt.title('Distribution of Location by Dropoff Average')\n",
    "plt.xlabel('Location')\n",
    "plt.xticks(rotation=45)\n",
    "plt.grid(axis='y')\n",
    "plt.ylabel('Trips Average');"
   ]
  },
  {
   "cell_type": "markdown",
   "id": "1101e67b",
   "metadata": {},
   "source": [
    "Based on the riders' data and as we can see in the bar chart, the top 4 destinations are all located in Downtown Chicago. The Loop, one of Chicago's 77 designated community areas, is the central business district of the city and is the main section of Downtown Chicago. These 4 destinations are also significantly higher than the other 6."
   ]
  },
  {
   "cell_type": "markdown",
   "id": "57d0c6d4",
   "metadata": {},
   "source": [
    "### Identifying Top Companies"
   ]
  },
  {
   "cell_type": "code",
   "execution_count": 10,
   "id": "169cfaf0",
   "metadata": {},
   "outputs": [
    {
     "data": {
      "text/html": [
       "<div>\n",
       "<style scoped>\n",
       "    .dataframe tbody tr th:only-of-type {\n",
       "        vertical-align: middle;\n",
       "    }\n",
       "\n",
       "    .dataframe tbody tr th {\n",
       "        vertical-align: top;\n",
       "    }\n",
       "\n",
       "    .dataframe thead th {\n",
       "        text-align: right;\n",
       "    }\n",
       "</style>\n",
       "<table border=\"1\" class=\"dataframe\">\n",
       "  <thead>\n",
       "    <tr style=\"text-align: right;\">\n",
       "      <th></th>\n",
       "      <th>company_name</th>\n",
       "      <th>trips_amount</th>\n",
       "    </tr>\n",
       "  </thead>\n",
       "  <tbody>\n",
       "    <tr>\n",
       "      <th>0</th>\n",
       "      <td>Flash Cab</td>\n",
       "      <td>19558</td>\n",
       "    </tr>\n",
       "    <tr>\n",
       "      <th>1</th>\n",
       "      <td>Taxi Affiliation Services</td>\n",
       "      <td>11422</td>\n",
       "    </tr>\n",
       "    <tr>\n",
       "      <th>2</th>\n",
       "      <td>Medallion Leasin</td>\n",
       "      <td>10367</td>\n",
       "    </tr>\n",
       "    <tr>\n",
       "      <th>3</th>\n",
       "      <td>Yellow Cab</td>\n",
       "      <td>9888</td>\n",
       "    </tr>\n",
       "    <tr>\n",
       "      <th>4</th>\n",
       "      <td>Taxi Affiliation Service Yellow</td>\n",
       "      <td>9299</td>\n",
       "    </tr>\n",
       "    <tr>\n",
       "      <th>5</th>\n",
       "      <td>Chicago Carriage Cab Corp</td>\n",
       "      <td>9181</td>\n",
       "    </tr>\n",
       "    <tr>\n",
       "      <th>6</th>\n",
       "      <td>City Service</td>\n",
       "      <td>8448</td>\n",
       "    </tr>\n",
       "    <tr>\n",
       "      <th>7</th>\n",
       "      <td>Sun Taxi</td>\n",
       "      <td>7701</td>\n",
       "    </tr>\n",
       "    <tr>\n",
       "      <th>8</th>\n",
       "      <td>Star North Management LLC</td>\n",
       "      <td>7455</td>\n",
       "    </tr>\n",
       "    <tr>\n",
       "      <th>9</th>\n",
       "      <td>Blue Ribbon Taxi Association Inc.</td>\n",
       "      <td>5953</td>\n",
       "    </tr>\n",
       "  </tbody>\n",
       "</table>\n",
       "</div>"
      ],
      "text/plain": [
       "                        company_name  trips_amount\n",
       "0                          Flash Cab         19558\n",
       "1          Taxi Affiliation Services         11422\n",
       "2                   Medallion Leasin         10367\n",
       "3                         Yellow Cab          9888\n",
       "4    Taxi Affiliation Service Yellow          9299\n",
       "5          Chicago Carriage Cab Corp          9181\n",
       "6                       City Service          8448\n",
       "7                           Sun Taxi          7701\n",
       "8          Star North Management LLC          7455\n",
       "9  Blue Ribbon Taxi Association Inc.          5953"
      ]
     },
     "execution_count": 10,
     "metadata": {},
     "output_type": "execute_result"
    }
   ],
   "source": [
    "df_one.sort_values('trips_amount', ascending=False).head(10)"
   ]
  },
  {
   "cell_type": "code",
   "execution_count": 11,
   "id": "2f421bd0",
   "metadata": {},
   "outputs": [],
   "source": [
    "popular_taxi = df_one.nlargest(10, 'trips_amount')"
   ]
  },
  {
   "cell_type": "code",
   "execution_count": 12,
   "id": "79bb00d6",
   "metadata": {},
   "outputs": [
    {
     "data": {
      "image/png": "[encoded data removed]",
      "text/plain": [
       "<Figure size 720x360 with 1 Axes>"
      ]
     },
     "metadata": {
      "needs_background": "light"
     },
     "output_type": "display_data"
    }
   ],
   "source": [
    "(popular_taxi\n",
    "     .groupby('company_name')['trips_amount']\n",
    "     .sum()\n",
    "     .sort_values(ascending=False)\n",
    "     .plot(kind='bar', figsize=(10, 5))\n",
    ")\n",
    "\n",
    "plt.title('Distribution of Trips by Taxi Companies')\n",
    "plt.xlabel('Taxi Company')\n",
    "plt.xticks(rotation=45)\n",
    "plt.grid(axis='y')\n",
    "plt.ylabel('Trips Amount');"
   ]
  },
  {
   "cell_type": "markdown",
   "id": "e1981bf5",
   "metadata": {},
   "source": [
    "In the bar chart, significantly more riders choose Flash Cab than any other companies, nearly 20,000 trips in November alone. The second place is held by Taxi Affiliation Service at half of Flash Cab's amount of rides."
   ]
  },
  {
   "cell_type": "markdown",
   "id": "b8fa4f45",
   "metadata": {},
   "source": [
    "## Hypotheses Testing"
   ]
  },
  {
   "cell_type": "markdown",
   "id": "60b344a2",
   "metadata": {},
   "source": [
    "### Weather and Duration of Rides\n",
    "\n",
    "1. Null and Alternative Hypotheses\n",
    "\n",
    "H0: The null hypothesis states that a population parameter (such as the mean, the standard deviation, and so on) is equal to a hypothesized value. In this case it means that the average duration of rides from the Loop to O'Hare International Airport on rainy Saturdays is the same as any other day.\n",
    "\n",
    "H1: The alternative hypothesis states that a population parameter is smaller, greater, or different than the hypothesized value in the null hypothesis. In this case it means that the average duration of rides from the Loop to O'Hare International Airport on rainy Saturdays is different than any other day.\n",
    "\n",
    "2. Criteria for a decision (alpha value)\n",
    "\n",
    "In behavioral science, the level of significance is typically set at 5% and we will choose this criteria as well. When the probability of obtaining a sample mean is less than 5% if the null hypothesis were true, then we reject the value stated in the null hypothesis.\n",
    "\n",
    "3. Calculate the t-test\n",
    "\n",
    "In order to test our hypothesis that the means of two statistical populations are equal based on samples taken from them, we will apply the method scipy.stats.ttest_ind().\n",
    "\n",
    "The method takes the following parameters:\n",
    "\n",
    "- array1, array2 are arrays containing the samples. We will use the total_sales variables that we will calculate for both platforms;\n",
    "- equal_var is an optional parameter that specifies whether or not the variances of the populations should be considered equal."
   ]
  },
  {
   "cell_type": "markdown",
   "id": "0c6ef694",
   "metadata": {},
   "source": [
    "### Third Dataframe Information and Processing"
   ]
  },
  {
   "cell_type": "code",
   "execution_count": 31,
   "id": "ce5543be",
   "metadata": {},
   "outputs": [
    {
     "name": "stdout",
     "output_type": "stream",
     "text": [
      "General dataset information:\n",
      "<class 'pandas.core.frame.DataFrame'>\n",
      "RangeIndex: 697 entries, 0 to 696\n",
      "Data columns (total 3 columns):\n",
      " #   Column         Non-Null Count  Dtype \n",
      "---  ------         --------------  ----- \n",
      " 0   Date and time  697 non-null    object\n",
      " 1   Temperature    697 non-null    object\n",
      " 2   Description    697 non-null    object\n",
      "dtypes: object(3)\n",
      "memory usage: 16.5+ KB\n",
      "None\n",
      "\n",
      "First five rows:\n",
      "         Date and time Temperature       Description\n",
      "0  2017-11-01 00:00:00     276.150     broken clouds\n",
      "1  2017-11-01 01:00:00     275.700  scattered clouds\n",
      "2  2017-11-01 02:00:00     275.610   overcast clouds\n",
      "3  2017-11-01 03:00:00     275.350     broken clouds\n",
      "4  2017-11-01 04:00:00     275.240     broken clouds\n",
      "\n",
      "Description of the dataset:\n",
      "              Date and time Temperature   Description\n",
      "count                   697         697           697\n",
      "unique                  697         496            19\n",
      "top     2017-11-04 16:00:00     275.960  sky is clear\n",
      "freq                      1          10           178\n",
      "\n",
      "This dataset has 0 duplicates.\n",
      "\n",
      "How many missing values does this data have?\n",
      "Date and time    0\n",
      "Temperature      0\n",
      "Description      0\n",
      "dtype: int64\n",
      "\n",
      "What is the percentage of the missing values?\n",
      "Date and time    0.0\n",
      "Temperature      0.0\n",
      "Description      0.0\n",
      "dtype: float64\n"
     ]
    }
   ],
   "source": [
    "data_info(weather_records)"
   ]
  },
  {
   "cell_type": "code",
   "execution_count": 14,
   "id": "e530e3a0",
   "metadata": {},
   "outputs": [
    {
     "name": "stdout",
     "output_type": "stream",
     "text": [
      "General dataset information:\n",
      "<class 'pandas.core.frame.DataFrame'>\n",
      "RangeIndex: 1068 entries, 0 to 1067\n",
      "Data columns (total 3 columns):\n",
      " #   Column              Non-Null Count  Dtype  \n",
      "---  ------              --------------  -----  \n",
      " 0   start_ts            1068 non-null   object \n",
      " 1   weather_conditions  1068 non-null   object \n",
      " 2   duration_seconds    1068 non-null   float64\n",
      "dtypes: float64(1), object(2)\n",
      "memory usage: 25.2+ KB\n",
      "None\n",
      "\n",
      "First five rows:\n",
      "              start_ts weather_conditions  duration_seconds\n",
      "0  2017-11-25 16:00:00               Good            2410.0\n",
      "1  2017-11-25 14:00:00               Good            1920.0\n",
      "2  2017-11-25 12:00:00               Good            1543.0\n",
      "3  2017-11-04 10:00:00               Good            2512.0\n",
      "4  2017-11-11 07:00:00               Good            1440.0\n",
      "\n",
      "Description of the dataset:\n",
      "       duration_seconds\n",
      "count       1068.000000\n",
      "mean        2071.731273\n",
      "std          769.461125\n",
      "min            0.000000\n",
      "25%         1438.250000\n",
      "50%         1980.000000\n",
      "75%         2580.000000\n",
      "max         7440.000000\n",
      "\n",
      "This dataset has 197 duplicates.\n",
      "\n",
      "How many missing values does this data have?\n",
      "start_ts              0\n",
      "weather_conditions    0\n",
      "duration_seconds      0\n",
      "dtype: int64\n",
      "\n",
      "What is the percentage of the missing values?\n",
      "start_ts              0.0\n",
      "weather_conditions    0.0\n",
      "duration_seconds      0.0\n",
      "dtype: float64\n"
     ]
    }
   ],
   "source": [
    "data_info(df_three)"
   ]
  },
  {
   "cell_type": "markdown",
   "id": "c23f0e33",
   "metadata": {},
   "source": [
    "The third dataset tells us about the rides' duration and weather condition . The dataset does not have any missing values, but it has 197 duplicates, some ride duration is 0 and some columns do not have the correct datatype, so we need to process them before we can move forward with analysing the dataset."
   ]
  },
  {
   "cell_type": "code",
   "execution_count": 15,
   "id": "a0e216b1",
   "metadata": {},
   "outputs": [],
   "source": [
    "df_three = df_three.drop_duplicates()"
   ]
  },
  {
   "cell_type": "code",
   "execution_count": 16,
   "id": "b2595a83",
   "metadata": {},
   "outputs": [],
   "source": [
    "df_three.loc[df_three['duration_seconds'] == 0] = np.nan"
   ]
  },
  {
   "cell_type": "code",
   "execution_count": 17,
   "id": "a298342c",
   "metadata": {},
   "outputs": [],
   "source": [
    "df_three = df_three.dropna(subset=['duration_seconds'], axis=0)\n",
    "df_three.reset_index(drop=True, inplace=True)"
   ]
  },
  {
   "cell_type": "code",
   "execution_count": 18,
   "id": "70d072f9",
   "metadata": {},
   "outputs": [
    {
     "data": {
      "text/html": [
       "<div>\n",
       "<style scoped>\n",
       "    .dataframe tbody tr th:only-of-type {\n",
       "        vertical-align: middle;\n",
       "    }\n",
       "\n",
       "    .dataframe tbody tr th {\n",
       "        vertical-align: top;\n",
       "    }\n",
       "\n",
       "    .dataframe thead th {\n",
       "        text-align: right;\n",
       "    }\n",
       "</style>\n",
       "<table border=\"1\" class=\"dataframe\">\n",
       "  <thead>\n",
       "    <tr style=\"text-align: right;\">\n",
       "      <th></th>\n",
       "      <th>start_ts</th>\n",
       "      <th>weather_conditions</th>\n",
       "      <th>duration_seconds</th>\n",
       "    </tr>\n",
       "  </thead>\n",
       "  <tbody>\n",
       "    <tr>\n",
       "      <th>0</th>\n",
       "      <td>2017-11-25 16:00:00</td>\n",
       "      <td>Good</td>\n",
       "      <td>2410.0</td>\n",
       "    </tr>\n",
       "    <tr>\n",
       "      <th>1</th>\n",
       "      <td>2017-11-25 14:00:00</td>\n",
       "      <td>Good</td>\n",
       "      <td>1920.0</td>\n",
       "    </tr>\n",
       "    <tr>\n",
       "      <th>2</th>\n",
       "      <td>2017-11-25 12:00:00</td>\n",
       "      <td>Good</td>\n",
       "      <td>1543.0</td>\n",
       "    </tr>\n",
       "    <tr>\n",
       "      <th>3</th>\n",
       "      <td>2017-11-04 10:00:00</td>\n",
       "      <td>Good</td>\n",
       "      <td>2512.0</td>\n",
       "    </tr>\n",
       "    <tr>\n",
       "      <th>4</th>\n",
       "      <td>2017-11-11 07:00:00</td>\n",
       "      <td>Good</td>\n",
       "      <td>1440.0</td>\n",
       "    </tr>\n",
       "  </tbody>\n",
       "</table>\n",
       "</div>"
      ],
      "text/plain": [
       "              start_ts weather_conditions  duration_seconds\n",
       "0  2017-11-25 16:00:00               Good            2410.0\n",
       "1  2017-11-25 14:00:00               Good            1920.0\n",
       "2  2017-11-25 12:00:00               Good            1543.0\n",
       "3  2017-11-04 10:00:00               Good            2512.0\n",
       "4  2017-11-11 07:00:00               Good            1440.0"
      ]
     },
     "execution_count": 18,
     "metadata": {},
     "output_type": "execute_result"
    }
   ],
   "source": [
    "df_three.head()"
   ]
  },
  {
   "cell_type": "code",
   "execution_count": 19,
   "id": "db501d1b",
   "metadata": {},
   "outputs": [],
   "source": [
    "df_three['start_ts'] = pd.to_datetime(df_three['start_ts'], format='%Y-%m-%d')\n",
    "df_three['duration_seconds'] = df_three['duration_seconds'].astype(int)"
   ]
  },
  {
   "cell_type": "markdown",
   "id": "9a697bf2",
   "metadata": {},
   "source": [
    "As the analysis is only for Saturdays, we need to make sure that all the data are from rides taken on a Saturday."
   ]
  },
  {
   "cell_type": "code",
   "execution_count": 20,
   "id": "7d85e329",
   "metadata": {},
   "outputs": [
    {
     "data": {
      "text/plain": [
       "array([5])"
      ]
     },
     "execution_count": 20,
     "metadata": {},
     "output_type": "execute_result"
    }
   ],
   "source": [
    "df_three['ride_day'] = df_three['start_ts'].dt.dayofweek"
   ]
  },
  {
   "cell_type": "code",
   "execution_count": 21,
   "id": "2c0ce71f",
   "metadata": {},
   "outputs": [
    {
     "data": {
      "text/plain": [
       "5    865\n",
       "Name: ride_day, dtype: int64"
      ]
     },
     "execution_count": 21,
     "metadata": {},
     "output_type": "execute_result"
    }
   ],
   "source": [
    "df_three['ride_day'].value_counts()"
   ]
  },
  {
   "cell_type": "markdown",
   "id": "5add5fb4",
   "metadata": {},
   "source": [
    "### Good & Bad Weather Rides"
   ]
  },
  {
   "cell_type": "code",
   "execution_count": 22,
   "id": "ffb83f8d",
   "metadata": {},
   "outputs": [],
   "source": [
    "good_weather = df_three.query('weather_conditions == \"Good\"')\n",
    "bad_weather = df_three.query('weather_conditions == \"Bad\"')"
   ]
  },
  {
   "cell_type": "code",
   "execution_count": 23,
   "id": "7836dabd",
   "metadata": {},
   "outputs": [
    {
     "name": "stdout",
     "output_type": "stream",
     "text": [
      "Good Weather Ride Duration Description\n",
      "count     717.000000\n",
      "mean     2049.259414\n",
      "std       753.877274\n",
      "min        60.000000\n",
      "25%      1440.000000\n",
      "50%      1916.000000\n",
      "75%      2493.000000\n",
      "max      7440.000000\n",
      "Name: duration_seconds, dtype: float64\n",
      "\n",
      "Bad Weather Ride Duration Description\n",
      "count     148.000000\n",
      "mean     2409.229730\n",
      "std       751.544705\n",
      "min       480.000000\n",
      "25%      1746.000000\n",
      "50%      2463.500000\n",
      "75%      2940.000000\n",
      "max      4980.000000\n",
      "Name: duration_seconds, dtype: float64\n"
     ]
    }
   ],
   "source": [
    "print('Good Weather Ride Duration Description')\n",
    "print(good_weather['duration_seconds'].describe())\n",
    "print()\n",
    "print('Bad Weather Ride Duration Description')\n",
    "print(bad_weather['duration_seconds'].describe())"
   ]
  },
  {
   "cell_type": "markdown",
   "id": "43a288d9",
   "metadata": {},
   "source": [
    "Based on the description above, the variance of these two parameters look quite different, so we will perform Levene's test to see if they actually do not have equal variance."
   ]
  },
  {
   "cell_type": "code",
   "execution_count": 24,
   "id": "7f7d8f77",
   "metadata": {},
   "outputs": [
    {
     "data": {
      "text/plain": [
       "LeveneResult(statistic=0.052091482462132625, pvalue=0.8195171648369002)"
      ]
     },
     "execution_count": 24,
     "metadata": {},
     "output_type": "execute_result"
    }
   ],
   "source": [
    "st.levene(good_weather['duration_seconds'], bad_weather['duration_seconds'])"
   ]
  },
  {
   "cell_type": "markdown",
   "id": "864fff5d",
   "metadata": {},
   "source": [
    "The p-value suggests that the populations do not have equal variance. Therefore we will set equal_var to False."
   ]
  },
  {
   "cell_type": "code",
   "execution_count": 25,
   "id": "1d4dc574",
   "metadata": {},
   "outputs": [
    {
     "name": "stdout",
     "output_type": "stream",
     "text": [
      "p-value: 2.859195727873403e-07\n",
      "Is p-value less than alpha? True\n",
      "We reject the null hypotheses. The average duration of rides from the Loop to O'Hare International Airport on rainy Saturdays is different than any other day.\n"
     ]
    }
   ],
   "source": [
    "alpha = 0.05\n",
    "\n",
    "results = st.ttest_ind(good_weather['duration_seconds'], bad_weather['duration_seconds'], equal_var=False)\n",
    "\n",
    "print('p-value:',results.pvalue)\n",
    "print('Is p-value less than alpha?',results.pvalue < alpha)\n",
    "\n",
    "if (results.pvalue < alpha):\n",
    "    print(\"We reject the null hypotheses. The average duration of rides from the Loop to O'Hare International Airport on rainy Saturdays is different than any other day.\")\n",
    "else:\n",
    "    print(\"We retain the null hypotheses. The average duration of rides from the Loop to O'Hare International Airport on rainy Saturdays is the same as any other day.\")"
   ]
  },
  {
   "cell_type": "markdown",
   "id": "e534075d",
   "metadata": {},
   "source": [
    "## Overall Conclusions"
   ]
  },
  {
   "cell_type": "markdown",
   "id": "548a5a8c",
   "metadata": {},
   "source": [
    "1. In this report, we have analysed three datasets with different parameters for taxi riding behaviour in Chicago in November, such as dropoff location, taxi companies used, weather condition and ride duration.\n",
    "2. Before going into the analysis, we have prepared the data by checking for any problems, changing the data types, categorising the data and adding relevant information into the dataset.\n",
    "3. We have found that most riders are heading to the happening areas in Downtown Chicago like The Loop, areas near Lake Michigan, as well as Chicago O'Hare airport.\n",
    "4. We have also found that Flash Cab dominates all taxi companies based on the amount of rides, at nearly 20,000 rides in a month. They may dominate because of the cheap rate and easy booking.\n",
    "5. There are 5 rides with 0 seconds duration on the third dataset, which may result because of cancelled bookings or due to an error upon retrieval of the dataset.\n",
    "6. We have tested the hypotheses that \"The average duration of rides from the Loop to O'Hare International Airport changes on rainy Saturdays.\" The result shows that the duration of rides from the Loop to O'Hare International Airport, on average, does not change on rainy Saturdays."
   ]
  }
 ],
 "metadata": {
  "ExecuteTimeLog": [
   {
    "duration": 1119,
    "start_time": "2021-10-10T03:58:18.741Z"
   },
   {
    "duration": 266,
    "start_time": "2021-10-10T03:58:21.050Z"
   },
   {
    "duration": 4,
    "start_time": "2021-10-10T03:58:22.846Z"
   },
   {
    "duration": 23,
    "start_time": "2021-10-10T03:58:26.359Z"
   },
   {
    "duration": 17,
    "start_time": "2021-10-10T03:58:32.789Z"
   },
   {
    "duration": 3,
    "start_time": "2021-10-10T03:58:37.176Z"
   },
   {
    "duration": 11,
    "start_time": "2021-10-10T03:58:39.554Z"
   },
   {
    "duration": 375,
    "start_time": "2021-10-10T03:58:43.879Z"
   },
   {
    "duration": 9,
    "start_time": "2021-10-10T03:59:05.172Z"
   },
   {
    "duration": 5,
    "start_time": "2021-10-10T03:59:13.403Z"
   },
   {
    "duration": 214,
    "start_time": "2021-10-10T04:00:04.455Z"
   },
   {
    "duration": 8,
    "start_time": "2021-10-10T04:00:09.203Z"
   },
   {
    "duration": 5,
    "start_time": "2021-10-10T04:00:28.317Z"
   },
   {
    "duration": 236,
    "start_time": "2021-10-10T04:01:29.695Z"
   },
   {
    "duration": 242,
    "start_time": "2021-10-10T04:01:41.440Z"
   },
   {
    "duration": 21,
    "start_time": "2021-10-10T04:01:42.809Z"
   },
   {
    "duration": 5,
    "start_time": "2021-10-10T04:01:46.692Z"
   },
   {
    "duration": 7,
    "start_time": "2021-10-10T04:01:50.727Z"
   },
   {
    "duration": 6,
    "start_time": "2021-10-10T04:01:51.911Z"
   },
   {
    "duration": 7,
    "start_time": "2021-10-10T04:02:02.999Z"
   },
   {
    "duration": 6,
    "start_time": "2021-10-10T04:02:06.137Z"
   },
   {
    "duration": 8,
    "start_time": "2021-10-10T04:02:10.117Z"
   },
   {
    "duration": 10,
    "start_time": "2021-10-10T04:02:10.520Z"
   },
   {
    "duration": 6,
    "start_time": "2021-10-10T04:02:36.894Z"
   },
   {
    "duration": 235,
    "start_time": "2021-10-10T04:05:25.604Z"
   },
   {
    "duration": 20,
    "start_time": "2021-10-10T04:05:26.248Z"
   },
   {
    "duration": 5,
    "start_time": "2021-10-10T04:05:27.728Z"
   },
   {
    "duration": 6,
    "start_time": "2021-10-10T04:05:28.295Z"
   },
   {
    "duration": 6,
    "start_time": "2021-10-10T04:05:28.692Z"
   },
   {
    "duration": 6,
    "start_time": "2021-10-10T04:05:30.088Z"
   },
   {
    "duration": 6,
    "start_time": "2021-10-10T04:05:31.669Z"
   },
   {
    "duration": 8,
    "start_time": "2021-10-10T04:05:36.909Z"
   },
   {
    "duration": 9,
    "start_time": "2021-10-10T04:05:37.450Z"
   },
   {
    "duration": 6,
    "start_time": "2021-10-10T04:05:41.121Z"
   },
   {
    "duration": 6,
    "start_time": "2021-10-10T04:05:47.859Z"
   },
   {
    "duration": 5,
    "start_time": "2021-10-10T04:08:46.036Z"
   },
   {
    "duration": 6,
    "start_time": "2021-10-10T04:09:03.533Z"
   },
   {
    "duration": 334,
    "start_time": "2021-10-10T22:45:09.532Z"
   },
   {
    "duration": 961,
    "start_time": "2021-10-10T22:45:16.361Z"
   },
   {
    "duration": -131,
    "start_time": "2021-10-10T22:45:17.456Z"
   },
   {
    "duration": 1355,
    "start_time": "2021-10-10T22:45:25.421Z"
   },
   {
    "duration": 204,
    "start_time": "2021-10-10T22:45:36.366Z"
   },
   {
    "duration": 337,
    "start_time": "2021-10-10T22:45:37.048Z"
   },
   {
    "duration": 6,
    "start_time": "2021-10-10T22:45:45.032Z"
   },
   {
    "duration": 34,
    "start_time": "2021-10-10T22:45:52.008Z"
   },
   {
    "duration": 7,
    "start_time": "2021-10-10T22:45:55.592Z"
   },
   {
    "duration": 9,
    "start_time": "2021-10-10T22:45:55.989Z"
   },
   {
    "duration": 8,
    "start_time": "2021-10-10T22:45:56.400Z"
   },
   {
    "duration": 8,
    "start_time": "2021-10-10T22:45:59.513Z"
   },
   {
    "duration": 11,
    "start_time": "2021-10-10T22:46:00.249Z"
   },
   {
    "duration": 18,
    "start_time": "2021-10-10T22:46:03.343Z"
   },
   {
    "duration": 14,
    "start_time": "2021-10-10T22:46:03.680Z"
   },
   {
    "duration": 7,
    "start_time": "2021-10-10T22:46:11.923Z"
   },
   {
    "duration": 8,
    "start_time": "2021-10-10T22:46:15.306Z"
   },
   {
    "duration": 8,
    "start_time": "2021-10-10T22:46:25.366Z"
   }
  ],
  "kernelspec": {
   "display_name": "Python 3",
   "language": "python",
   "name": "python3"
  },
  "language_info": {
   "codemirror_mode": {
    "name": "ipython",
    "version": 3
   },
   "file_extension": ".py",
   "mimetype": "text/x-python",
   "name": "python",
   "nbconvert_exporter": "python",
   "pygments_lexer": "ipython3",
   "version": "3.8.8"
  },
  "toc": {
   "base_numbering": 1,
   "nav_menu": {},
   "number_sections": true,
   "sideBar": true,
   "skip_h1_title": true,
   "title_cell": "Table of Contents",
   "title_sidebar": "Contents",
   "toc_cell": false,
   "toc_position": {},
   "toc_section_display": true,
   "toc_window_display": false
  }
 },
 "nbformat": 4,
 "nbformat_minor": 5
}
